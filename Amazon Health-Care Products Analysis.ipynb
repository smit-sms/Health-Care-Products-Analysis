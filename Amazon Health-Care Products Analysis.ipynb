{
 "cells": [
  {
   "cell_type": "markdown",
   "metadata": {},
   "source": [
    "<h3> DATA COLUMNS: </h3>\n",
    "\n",
    "marketplace       - 2 letter country code of the marketplace where the review was written.<br>\n",
    "customer_id       - Random identifier that can be used to aggregate reviews written by a single author.<br>\n",
    "review_id         - The unique ID of the review.<br>\n",
    "product_id        - The unique Product ID the review pertains to. In the multilingual dataset the reviews for the same product in different countries can be grouped by the same product_id.<br>\n",
    "product_parent    - Random identifier that can be used to aggregate reviews for the same product.<br>\n",
    "product_title     - Title of the product.<br>\n",
    "product_category  - Broad product category that can be used to group reviews (also used to group the dataset into coherent parts).<br>\n",
    "star_rating       - The 1-5 star rating of the review.<br>\n",
    "helpful_votes     - Number of helpful votes.<br>\n",
    "total_votes       - Number of total votes the review received.<br>\n",
    "vine              - Review was written as part of the Vine program.<br>\n",
    "verified_purchase - The review is on a verified purchase.<br>\n",
    "review_headline   - The title of the review.<br>\n",
    "review_body       - The review text.<br>\n",
    "review_date       - The date the review was written.<br>\n"
   ]
  },
  {
   "cell_type": "code",
   "execution_count": 4,
   "metadata": {},
   "outputs": [
    {
     "name": "stderr",
     "output_type": "stream",
     "text": [
      "Re-using existing Spark connection to local\n",
      "\n"
     ]
    }
   ],
   "source": [
    "# LOADING REQUIRED LIBRARIES & making connection to local spark instance\n",
    "library(ggplot2)\n",
    "library(sparklyr)\n",
    "library(data.table)\n",
    "library(dplyr)\n",
    "library(tidyr)\n",
    "sc <- spark_connect(master = \"local\")"
   ]
  },
  {
   "cell_type": "code",
   "execution_count": 5,
   "metadata": {},
   "outputs": [],
   "source": [
    "path = 'amazon_data.csv'"
   ]
  },
  {
   "cell_type": "code",
   "execution_count": 6,
   "metadata": {},
   "outputs": [],
   "source": [
    "# reading the 'csv' file in sparklyr\n",
    "\n",
    "df_new <- spark_read_csv(sc, path, delimeter=',', header=TRUE)"
   ]
  },
  {
   "cell_type": "code",
   "execution_count": 7,
   "metadata": {},
   "outputs": [
    {
     "data": {
      "text/plain": [
       "\u001b[90m# Source: spark<amazon_data_f3085944_8142_4818_aa40_c42409faef2e> [?? x 15]\u001b[39m\n",
       "   marketplace customer_id review_id  product_id product_parent product_title   \n",
       "   \u001b[3m\u001b[90m<chr>\u001b[39m\u001b[23m             \u001b[3m\u001b[90m<int>\u001b[39m\u001b[23m \u001b[3m\u001b[90m<chr>\u001b[39m\u001b[23m      \u001b[3m\u001b[90m<chr>\u001b[39m\u001b[23m               \u001b[3m\u001b[90m<int>\u001b[39m\u001b[23m \u001b[3m\u001b[90m<chr>\u001b[39m\u001b[23m           \n",
       "\u001b[90m 1\u001b[39m US               \u001b[4m6\u001b[24m\u001b[4m5\u001b[24m\u001b[4m0\u001b[24m634 R3EQSTM9P~ B0091LBZSU      578\u001b[4m4\u001b[24m\u001b[4m8\u001b[24m\u001b[4m4\u001b[24m426 Demograss Capsu~\n",
       "\u001b[90m 2\u001b[39m US             19\u001b[4m8\u001b[24m\u001b[4m2\u001b[24m\u001b[4m7\u001b[24m510 RBWPRK17X~ B00PWW3LQ6      456\u001b[4m4\u001b[24m\u001b[4m3\u001b[24m\u001b[4m3\u001b[24m146 Viva Labs #1 Pr~\n",
       "\u001b[90m 3\u001b[39m US              1\u001b[4m5\u001b[24m\u001b[4m2\u001b[24m\u001b[4m0\u001b[24m474 RRSLOAF27~ B00DKEWA92      460\u001b[4m7\u001b[24m\u001b[4m6\u001b[24m\u001b[4m4\u001b[24m511 Whip-it Cleaner \n",
       "\u001b[90m 4\u001b[39m US             23\u001b[4m9\u001b[24m\u001b[4m0\u001b[24m\u001b[4m5\u001b[24m905 R3S8W9Q6S~ B0015R3A7M      135\u001b[4m1\u001b[24m\u001b[4m0\u001b[24m\u001b[4m2\u001b[24m038 Optimum Nutriti~\n",
       "\u001b[90m 5\u001b[39m US             28\u001b[4m2\u001b[24m\u001b[4m1\u001b[24m\u001b[4m5\u001b[24m779 R3QQ6NSLR~ B006B8U8BG      200\u001b[4m6\u001b[24m\u001b[4m6\u001b[24m\u001b[4m6\u001b[24m829 Wet-Stop3 Bedwe~\n",
       "\u001b[90m 6\u001b[39m US             23\u001b[4m2\u001b[24m\u001b[4m6\u001b[24m\u001b[4m0\u001b[24m912 R2XYDBMHU~ B00PFZFD8Y      344\u001b[4m1\u001b[24m\u001b[4m6\u001b[24m\u001b[4m8\u001b[24m617 NatraCure Plant~\n",
       "\u001b[90m 7\u001b[39m US              7\u001b[4m9\u001b[24m\u001b[4m6\u001b[24m\u001b[4m5\u001b[24m616 R1L94ESVC~ B0034792JG      291\u001b[4m8\u001b[24m\u001b[4m3\u001b[24m\u001b[4m1\u001b[24m570 Glade Sense & S~\n",
       "\u001b[90m 8\u001b[39m US              3\u001b[4m4\u001b[24m\u001b[4m4\u001b[24m\u001b[4m3\u001b[24m178 R3DI4B8LD~ B000052XIA      493\u001b[4m6\u001b[24m\u001b[4m7\u001b[24m\u001b[4m8\u001b[24m550 Vagisil Anti-It~\n",
       "\u001b[90m 9\u001b[39m US             20\u001b[4m8\u001b[24m\u001b[4m3\u001b[24m\u001b[4m8\u001b[24m781 R1G7VV4HC~ B004GCUK8A        3\u001b[4m9\u001b[24m\u001b[4m0\u001b[24m\u001b[4m2\u001b[24m598 Glade Automatic~\n",
       "\u001b[90m10\u001b[39m US             15\u001b[4m2\u001b[24m\u001b[4m6\u001b[24m\u001b[4m7\u001b[24m517 R3TTNYN1T~ B00K7W1QAO      633\u001b[4m9\u001b[24m\u001b[4m7\u001b[24m\u001b[4m1\u001b[24m374 Kirkland Signat~\n",
       "\u001b[90m# ... with more rows, and 9 more variables: product_category <chr>,\u001b[39m\n",
       "\u001b[90m#   star_rating <chr>, helpful_votes <chr>, total_votes <chr>, vine <chr>,\u001b[39m\n",
       "\u001b[90m#   verified_purchase <chr>, review_headline <chr>, review_body <chr>,\u001b[39m\n",
       "\u001b[90m#   review_date <chr>\u001b[39m"
      ]
     },
     "metadata": {},
     "output_type": "display_data"
    }
   ],
   "source": [
    "df_new"
   ]
  },
  {
   "cell_type": "code",
   "execution_count": 8,
   "metadata": {},
   "outputs": [],
   "source": [
    "# Collecting the spark data in R dataframe\n",
    "df <- collect(df_new)"
   ]
  },
  {
   "cell_type": "code",
   "execution_count": 9,
   "metadata": {
    "scrolled": false
   },
   "outputs": [
    {
     "data": {
      "text/plain": [
       " marketplace         customer_id        review_id          product_id       \n",
       " Length:10298       Min.   :   12598   Length:10298       Length:10298      \n",
       " Class :character   1st Qu.:12723480   Class :character   Class :character  \n",
       " Mode  :character   Median :23585790   Mode  :character   Mode  :character  \n",
       "                    Mean   :25557656                                        \n",
       "                    3rd Qu.:40547380                                        \n",
       "                    Max.   :53090974                                        \n",
       " product_parent      product_title      product_category   star_rating       \n",
       " Min.   :   315981   Length:10298       Length:10298       Length:10298      \n",
       " 1st Qu.:267880176   Class :character   Class :character   Class :character  \n",
       " Median :503485595   Mode  :character   Mode  :character   Mode  :character  \n",
       " Mean   :505436641                                                           \n",
       " 3rd Qu.:754596439                                                           \n",
       " Max.   :999838194                                                           \n",
       " helpful_votes      total_votes            vine           verified_purchase \n",
       " Length:10298       Length:10298       Length:10298       Length:10298      \n",
       " Class :character   Class :character   Class :character   Class :character  \n",
       " Mode  :character   Mode  :character   Mode  :character   Mode  :character  \n",
       "                                                                            \n",
       "                                                                            \n",
       "                                                                            \n",
       " review_headline    review_body        review_date       \n",
       " Length:10298       Length:10298       Length:10298      \n",
       " Class :character   Class :character   Class :character  \n",
       " Mode  :character   Mode  :character   Mode  :character  \n",
       "                                                         \n",
       "                                                         \n",
       "                                                         "
      ]
     },
     "metadata": {},
     "output_type": "display_data"
    }
   ],
   "source": [
    "summary(df)"
   ]
  },
  {
   "cell_type": "markdown",
   "metadata": {},
   "source": [
    "# 1. Top Products sold"
   ]
  },
  {
   "cell_type": "code",
   "execution_count": 11,
   "metadata": {},
   "outputs": [
    {
     "data": {
      "text/html": [
       "<table class=\"dataframe\">\n",
       "<caption>A data.frame: 6 × 2</caption>\n",
       "<thead>\n",
       "\t<tr><th scope=col>Var1</th><th scope=col>Freq</th></tr>\n",
       "\t<tr><th scope=col>&lt;fct&gt;</th><th scope=col>&lt;int&gt;</th></tr>\n",
       "</thead>\n",
       "<tbody>\n",
       "\t<tr><td>Fitbit Charge HR Wireless Activity Wristband                                                                                                                                                                                                                                                                                                    </td><td>62</td></tr>\n",
       "\t<tr><td>Fitbit Charge Wireless Activity Wristband                                                                                                                                                                                                                                                                                                       </td><td>34</td></tr>\n",
       "\t<tr><td>Doctor Danielle Turmeric Curcumin with Bioperine (120 Capsules)                                                                                                                                                                                                                                                                                 </td><td>33</td></tr>\n",
       "\t<tr><td>Omega 3 Fish Oil Pills - Triple Strength Fish Oil Supplement (1,400mg Omega 3 Fatty Acids: 600mg DHA + 800 mg EPA per Serving) - Burpless Capsules with Enteric Coating And Pharmaceutical Grade Essential Fatty Acids - Molecularly Distilled Fish Oil Supplements Including Best Health Bonus (Online Videos With Health-Supporting Exercises)</td><td>28</td></tr>\n",
       "\t<tr><td>Fitbit Flex Wireless Wristband with Sleep Function, Black                                                                                                                                                                                                                                                                                       </td><td>24</td></tr>\n",
       "\t<tr><td>Amazon Elements Wipes                                                                                                                                                                                                                                                                                                                           </td><td>23</td></tr>\n",
       "</tbody>\n",
       "</table>\n"
      ],
      "text/latex": [
       "A data.frame: 6 × 2\n",
       "\\begin{tabular}{ll}\n",
       " Var1 & Freq\\\\\n",
       " <fct> & <int>\\\\\n",
       "\\hline\n",
       "\t Fitbit Charge HR Wireless Activity Wristband                                                                                                                                                                                                                                                                                                     & 62\\\\\n",
       "\t Fitbit Charge Wireless Activity Wristband                                                                                                                                                                                                                                                                                                        & 34\\\\\n",
       "\t Doctor Danielle Turmeric Curcumin with Bioperine (120 Capsules)                                                                                                                                                                                                                                                                                  & 33\\\\\n",
       "\t Omega 3 Fish Oil Pills - Triple Strength Fish Oil Supplement (1,400mg Omega 3 Fatty Acids: 600mg DHA + 800 mg EPA per Serving) - Burpless Capsules with Enteric Coating And Pharmaceutical Grade Essential Fatty Acids - Molecularly Distilled Fish Oil Supplements Including Best Health Bonus (Online Videos With Health-Supporting Exercises) & 28\\\\\n",
       "\t Fitbit Flex Wireless Wristband with Sleep Function, Black                                                                                                                                                                                                                                                                                        & 24\\\\\n",
       "\t Amazon Elements Wipes                                                                                                                                                                                                                                                                                                                            & 23\\\\\n",
       "\\end{tabular}\n"
      ],
      "text/markdown": [
       "\n",
       "A data.frame: 6 × 2\n",
       "\n",
       "| Var1 &lt;fct&gt; | Freq &lt;int&gt; |\n",
       "|---|---|\n",
       "| Fitbit Charge HR Wireless Activity Wristband                                                                                                                                                                                                                                                                                                     | 62 |\n",
       "| Fitbit Charge Wireless Activity Wristband                                                                                                                                                                                                                                                                                                        | 34 |\n",
       "| Doctor Danielle Turmeric Curcumin with Bioperine (120 Capsules)                                                                                                                                                                                                                                                                                  | 33 |\n",
       "| Omega 3 Fish Oil Pills - Triple Strength Fish Oil Supplement (1,400mg Omega 3 Fatty Acids: 600mg DHA + 800 mg EPA per Serving) - Burpless Capsules with Enteric Coating And Pharmaceutical Grade Essential Fatty Acids - Molecularly Distilled Fish Oil Supplements Including Best Health Bonus (Online Videos With Health-Supporting Exercises) | 28 |\n",
       "| Fitbit Flex Wireless Wristband with Sleep Function, Black                                                                                                                                                                                                                                                                                        | 24 |\n",
       "| Amazon Elements Wipes                                                                                                                                                                                                                                                                                                                            | 23 |\n",
       "\n"
      ],
      "text/plain": [
       "  Var1                                                                                                                                                                                                                                                                                                                                            \n",
       "1 Fitbit Charge HR Wireless Activity Wristband                                                                                                                                                                                                                                                                                                    \n",
       "2 Fitbit Charge Wireless Activity Wristband                                                                                                                                                                                                                                                                                                       \n",
       "3 Doctor Danielle Turmeric Curcumin with Bioperine (120 Capsules)                                                                                                                                                                                                                                                                                 \n",
       "4 Omega 3 Fish Oil Pills - Triple Strength Fish Oil Supplement (1,400mg Omega 3 Fatty Acids: 600mg DHA + 800 mg EPA per Serving) - Burpless Capsules with Enteric Coating And Pharmaceutical Grade Essential Fatty Acids - Molecularly Distilled Fish Oil Supplements Including Best Health Bonus (Online Videos With Health-Supporting Exercises)\n",
       "5 Fitbit Flex Wireless Wristband with Sleep Function, Black                                                                                                                                                                                                                                                                                       \n",
       "6 Amazon Elements Wipes                                                                                                                                                                                                                                                                                                                           \n",
       "  Freq\n",
       "1 62  \n",
       "2 34  \n",
       "3 33  \n",
       "4 28  \n",
       "5 24  \n",
       "6 23  "
      ]
     },
     "metadata": {},
     "output_type": "display_data"
    }
   ],
   "source": [
    "df_top <- head(sort(table(df$product_title), decreasing = TRUE))\n",
    "data.frame(df_top)"
   ]
  },
  {
   "cell_type": "code",
   "execution_count": 9,
   "metadata": {
    "scrolled": false
   },
   "outputs": [
    {
     "data": {
      "image/png": "[encoded data removed]",
      "text/plain": [
       "Plot with title \"Top products Sold\""
      ]
     },
     "metadata": {
      "image/png": {
       "height": 420,
       "width": 420
      }
     },
     "output_type": "display_data"
    }
   ],
   "source": [
    "barplot(df_top,\n",
    "main=\"Top products Sold\",\n",
    "ylab=\"Count\",\n",
    "las=2,\n",
    ")"
   ]
  },
  {
   "cell_type": "markdown",
   "metadata": {},
   "source": [
    "### Data preprocessing"
   ]
  },
  {
   "cell_type": "code",
   "execution_count": 10,
   "metadata": {},
   "outputs": [],
   "source": [
    "df_temp <- data.frame(df_top)\n",
    "df_temp <- subset (df_temp, select = -Freq)"
   ]
  },
  {
   "cell_type": "code",
   "execution_count": 11,
   "metadata": {},
   "outputs": [],
   "source": [
    "df_temp <- df_temp %>% \n",
    "  rename(\n",
    "    product_title = Var1\n",
    "    )"
   ]
  },
  {
   "cell_type": "markdown",
   "metadata": {},
   "source": [
    "# 2. Minimum and Maximum Rating for top products"
   ]
  },
  {
   "cell_type": "code",
   "execution_count": 12,
   "metadata": {},
   "outputs": [],
   "source": [
    "temp <- data.frame(df[,c(6,8)])"
   ]
  },
  {
   "cell_type": "code",
   "execution_count": 13,
   "metadata": {},
   "outputs": [],
   "source": [
    "max_rat <- function(name){\n",
    "    a<-data.frame(table(subset(temp, product_title == name)))\n",
    "    a$star_rating <- as.numeric(as.character(a$star_rating))\n",
    "    return (max(a$star_rating))\n",
    "}"
   ]
  },
  {
   "cell_type": "code",
   "execution_count": 14,
   "metadata": {},
   "outputs": [],
   "source": [
    "max_rat_count <- function(name) {\n",
    "    max_count <- max(table(subset(temp, product_title == name)))\n",
    "    return (max_count)\n",
    "}"
   ]
  },
  {
   "cell_type": "code",
   "execution_count": 15,
   "metadata": {},
   "outputs": [],
   "source": [
    "min_rat <- function(name){\n",
    "    a<-data.frame(table(subset(temp, product_title == name)))\n",
    "    a$star_rating <- as.numeric(as.character(a$star_rating))\n",
    "    return (min(a$star_rating))\n",
    "}"
   ]
  },
  {
   "cell_type": "code",
   "execution_count": 16,
   "metadata": {},
   "outputs": [],
   "source": [
    "min_rat_count <- function(name) {\n",
    "    max_count <- min(table(subset(temp, product_title == name)))\n",
    "    return (max_count)\n",
    "}"
   ]
  },
  {
   "cell_type": "code",
   "execution_count": 17,
   "metadata": {},
   "outputs": [],
   "source": [
    "df_temp$max_rating <- lapply(df_temp$product_title, max_rat)\n",
    "df_temp$min_rating <- lapply(df_temp$product_title, min_rat)\n",
    "df_temp$max_rating_count <- lapply(df_temp$product_title, max_rat_count)\n",
    "df_temp$min_rating_count <- lapply(df_temp$product_title, min_rat_count)"
   ]
  },
  {
   "cell_type": "code",
   "execution_count": 19,
   "metadata": {},
   "outputs": [
    {
     "data": {
      "text/html": [
       "<table class=\"dataframe\">\n",
       "<caption>A data.frame: 6 × 5</caption>\n",
       "<thead>\n",
       "\t<tr><th></th><th scope=col>product_title</th><th scope=col>max_rating</th><th scope=col>min_rating</th><th scope=col>max_rating_count</th><th scope=col>min_rating_count</th></tr>\n",
       "\t<tr><th></th><th scope=col>&lt;fct&gt;</th><th scope=col>&lt;list&gt;</th><th scope=col>&lt;list&gt;</th><th scope=col>&lt;list&gt;</th><th scope=col>&lt;list&gt;</th></tr>\n",
       "</thead>\n",
       "<tbody>\n",
       "\t<tr><th scope=row>1</th><td>Fitbit Charge HR Wireless Activity Wristband                                                                                                                                                                                                                                                                                                    </td><td>5</td><td>1</td><td>34</td><td>4</td></tr>\n",
       "\t<tr><th scope=row>2</th><td>Fitbit Charge Wireless Activity Wristband                                                                                                                                                                                                                                                                                                       </td><td>5</td><td>1</td><td>18</td><td>3</td></tr>\n",
       "\t<tr><th scope=row>3</th><td>Doctor Danielle Turmeric Curcumin with Bioperine (120 Capsules)                                                                                                                                                                                                                                                                                 </td><td>5</td><td>1</td><td>23</td><td>1</td></tr>\n",
       "\t<tr><th scope=row>4</th><td>Omega 3 Fish Oil Pills - Triple Strength Fish Oil Supplement (1,400mg Omega 3 Fatty Acids: 600mg DHA + 800 mg EPA per Serving) - Burpless Capsules with Enteric Coating And Pharmaceutical Grade Essential Fatty Acids - Molecularly Distilled Fish Oil Supplements Including Best Health Bonus (Online Videos With Health-Supporting Exercises)</td><td>5</td><td>1</td><td>20</td><td>1</td></tr>\n",
       "\t<tr><th scope=row>5</th><td>Fitbit Flex Wireless Wristband with Sleep Function, Black                                                                                                                                                                                                                                                                                       </td><td>5</td><td>1</td><td>14</td><td>1</td></tr>\n",
       "\t<tr><th scope=row>6</th><td>Amazon Elements Wipes                                                                                                                                                                                                                                                                                                                           </td><td>5</td><td>1</td><td>14</td><td>1</td></tr>\n",
       "</tbody>\n",
       "</table>\n"
      ],
      "text/latex": [
       "A data.frame: 6 × 5\n",
       "\\begin{tabular}{r|lllll}\n",
       "  & product\\_title & max\\_rating & min\\_rating & max\\_rating\\_count & min\\_rating\\_count\\\\\n",
       "  & <fct> & <list> & <list> & <list> & <list>\\\\\n",
       "\\hline\n",
       "\t1 & Fitbit Charge HR Wireless Activity Wristband                                                                                                                                                                                                                                                                                                     & 5 & 1 & 34 & 4\\\\\n",
       "\t2 & Fitbit Charge Wireless Activity Wristband                                                                                                                                                                                                                                                                                                        & 5 & 1 & 18 & 3\\\\\n",
       "\t3 & Doctor Danielle Turmeric Curcumin with Bioperine (120 Capsules)                                                                                                                                                                                                                                                                                  & 5 & 1 & 23 & 1\\\\\n",
       "\t4 & Omega 3 Fish Oil Pills - Triple Strength Fish Oil Supplement (1,400mg Omega 3 Fatty Acids: 600mg DHA + 800 mg EPA per Serving) - Burpless Capsules with Enteric Coating And Pharmaceutical Grade Essential Fatty Acids - Molecularly Distilled Fish Oil Supplements Including Best Health Bonus (Online Videos With Health-Supporting Exercises) & 5 & 1 & 20 & 1\\\\\n",
       "\t5 & Fitbit Flex Wireless Wristband with Sleep Function, Black                                                                                                                                                                                                                                                                                        & 5 & 1 & 14 & 1\\\\\n",
       "\t6 & Amazon Elements Wipes                                                                                                                                                                                                                                                                                                                            & 5 & 1 & 14 & 1\\\\\n",
       "\\end{tabular}\n"
      ],
      "text/markdown": [
       "\n",
       "A data.frame: 6 × 5\n",
       "\n",
       "| <!--/--> | product_title &lt;fct&gt; | max_rating &lt;list&gt; | min_rating &lt;list&gt; | max_rating_count &lt;list&gt; | min_rating_count &lt;list&gt; |\n",
       "|---|---|---|---|---|---|\n",
       "| 1 | Fitbit Charge HR Wireless Activity Wristband                                                                                                                                                                                                                                                                                                     | 5 | 1 | 34 | 4 |\n",
       "| 2 | Fitbit Charge Wireless Activity Wristband                                                                                                                                                                                                                                                                                                        | 5 | 1 | 18 | 3 |\n",
       "| 3 | Doctor Danielle Turmeric Curcumin with Bioperine (120 Capsules)                                                                                                                                                                                                                                                                                  | 5 | 1 | 23 | 1 |\n",
       "| 4 | Omega 3 Fish Oil Pills - Triple Strength Fish Oil Supplement (1,400mg Omega 3 Fatty Acids: 600mg DHA + 800 mg EPA per Serving) - Burpless Capsules with Enteric Coating And Pharmaceutical Grade Essential Fatty Acids - Molecularly Distilled Fish Oil Supplements Including Best Health Bonus (Online Videos With Health-Supporting Exercises) | 5 | 1 | 20 | 1 |\n",
       "| 5 | Fitbit Flex Wireless Wristband with Sleep Function, Black                                                                                                                                                                                                                                                                                        | 5 | 1 | 14 | 1 |\n",
       "| 6 | Amazon Elements Wipes                                                                                                                                                                                                                                                                                                                            | 5 | 1 | 14 | 1 |\n",
       "\n"
      ],
      "text/plain": [
       "  product_title                                                                                                                                                                                                                                                                                                                                   \n",
       "1 Fitbit Charge HR Wireless Activity Wristband                                                                                                                                                                                                                                                                                                    \n",
       "2 Fitbit Charge Wireless Activity Wristband                                                                                                                                                                                                                                                                                                       \n",
       "3 Doctor Danielle Turmeric Curcumin with Bioperine (120 Capsules)                                                                                                                                                                                                                                                                                 \n",
       "4 Omega 3 Fish Oil Pills - Triple Strength Fish Oil Supplement (1,400mg Omega 3 Fatty Acids: 600mg DHA + 800 mg EPA per Serving) - Burpless Capsules with Enteric Coating And Pharmaceutical Grade Essential Fatty Acids - Molecularly Distilled Fish Oil Supplements Including Best Health Bonus (Online Videos With Health-Supporting Exercises)\n",
       "5 Fitbit Flex Wireless Wristband with Sleep Function, Black                                                                                                                                                                                                                                                                                       \n",
       "6 Amazon Elements Wipes                                                                                                                                                                                                                                                                                                                           \n",
       "  max_rating min_rating max_rating_count min_rating_count\n",
       "1 5          1          34               4               \n",
       "2 5          1          18               3               \n",
       "3 5          1          23               1               \n",
       "4 5          1          20               1               \n",
       "5 5          1          14               1               \n",
       "6 5          1          14               1               "
      ]
     },
     "metadata": {},
     "output_type": "display_data"
    }
   ],
   "source": [
    "df_temp"
   ]
  },
  {
   "cell_type": "code",
   "execution_count": 37,
   "metadata": {},
   "outputs": [],
   "source": [
    "# formattedData <- df_temp %>% select(product_title, max_rating, min_rating) %>% pivot_longer(cols = all_of(c(\"max_rating\", \"min_rating\"))) "
   ]
  },
  {
   "cell_type": "code",
   "execution_count": 38,
   "metadata": {},
   "outputs": [],
   "source": [
    "# ggplot(formattedData, aes(x = product_title, y = value, fill = name)) + geom_bar(stat = \"identity\", position = \"dodge\") + scale_fill_manual(values=c(\"max_rating\" = \"orange\", \"min_rating\" = \"blue\")) + ggtitle(\"Top products ratings\") + ylab(\"Ratings\")"
   ]
  },
  {
   "cell_type": "code",
   "execution_count": 22,
   "metadata": {},
   "outputs": [
    {
     "data": {
      "image/png": "[encoded data removed]",
      "text/plain": [
       "Plot with title \"Products\""
      ]
     },
     "metadata": {
      "image/png": {
       "height": 420,
       "width": 420
      }
     },
     "output_type": "display_data"
    }
   ],
   "source": [
    "plot(x = df_temp$product_title, y = df_temp$max_rating_count, type='o', xlab = \"Product\", ylab = \"Max Rating Count\", main = \"Products\", col=\"red\",pch = 19,cex = 1.3)\n",
    "\n",
    "text(x = df_temp$product_title,\n",
    "     y = df_temp$max_rating_count,\n",
    "     labels = df_temp$max_rating_count,cex=1.3, pos=4,col=\"blue\")"
   ]
  },
  {
   "cell_type": "code",
   "execution_count": 23,
   "metadata": {},
   "outputs": [
    {
     "data": {
      "image/png": "[encoded data removed]",
      "text/plain": [
       "Plot with title \"Products\""
      ]
     },
     "metadata": {
      "image/png": {
       "height": 420,
       "width": 420
      }
     },
     "output_type": "display_data"
    }
   ],
   "source": [
    "plot(x=df_temp$product_title, y=df_temp$min_rating_count, type = \"o\", col = \"blue\", xlab = \"Product\",ylab = \"Minimum Rating Count\", main = \"Products\", pch = 19,cex = 1.3)\n",
    "text(x = df_temp$product_title,\n",
    "     y = df_temp$min_rating_count,\n",
    "     labels = df_temp$min_rating_count,cex=1.3, pos=4,col=\"blue\")"
   ]
  },
  {
   "cell_type": "markdown",
   "metadata": {},
   "source": [
    "# 3. Sentiment Analysis of Review Headlines"
   ]
  },
  {
   "cell_type": "code",
   "execution_count": 24,
   "metadata": {},
   "outputs": [],
   "source": [
    "library(sentimentr)"
   ]
  },
  {
   "cell_type": "code",
   "execution_count": 25,
   "metadata": {},
   "outputs": [
    {
     "name": "stderr",
     "output_type": "stream",
     "text": [
      "Warning message:\n",
      "\"Each time `sentiment_by` is run it has to do sentence boundary disambiguation when a\n",
      "raw `character` vector is passed to `text.var`. This may be costly of time and\n",
      "memory.  It is highly recommended that the user first runs the raw `character`\n",
      "vector through the `get_sentences` function.\"\n"
     ]
    }
   ],
   "source": [
    "df$sentiment <- sentiment_by(df$review_headline)$ave_sentiment"
   ]
  },
  {
   "cell_type": "code",
   "execution_count": 26,
   "metadata": {},
   "outputs": [
    {
     "data": {
      "text/html": [
       "<table class=\"dataframe\">\n",
       "<caption>A tibble: 6 × 16</caption>\n",
       "<thead>\n",
       "\t<tr><th scope=col>marketplace</th><th scope=col>customer_id</th><th scope=col>review_id</th><th scope=col>product_id</th><th scope=col>product_parent</th><th scope=col>product_title</th><th scope=col>product_category</th><th scope=col>star_rating</th><th scope=col>helpful_votes</th><th scope=col>total_votes</th><th scope=col>vine</th><th scope=col>verified_purchase</th><th scope=col>review_headline</th><th scope=col>review_body</th><th scope=col>review_date</th><th scope=col>sentiment</th></tr>\n",
       "\t<tr><th scope=col>&lt;chr&gt;</th><th scope=col>&lt;int&gt;</th><th scope=col>&lt;chr&gt;</th><th scope=col>&lt;chr&gt;</th><th scope=col>&lt;int&gt;</th><th scope=col>&lt;chr&gt;</th><th scope=col>&lt;chr&gt;</th><th scope=col>&lt;chr&gt;</th><th scope=col>&lt;chr&gt;</th><th scope=col>&lt;chr&gt;</th><th scope=col>&lt;chr&gt;</th><th scope=col>&lt;chr&gt;</th><th scope=col>&lt;chr&gt;</th><th scope=col>&lt;chr&gt;</th><th scope=col>&lt;chr&gt;</th><th scope=col>&lt;dbl&gt;</th></tr>\n",
       "</thead>\n",
       "<tbody>\n",
       "\t<tr><td>US</td><td><span style=white-space:pre-wrap>  650634</span></td><td>R3EQSTM9PWRAL </td><td>B0091LBZSU</td><td>578484426</td><td><span style=white-space:pre-wrap>Demograss Capsules Diet Pills Lose Weight                                                                                  </span></td><td>Health &amp; Personal Care</td><td>3</td><td>0</td><td>0</td><td>N</td><td>Y</td><td><span style=white-space:pre-wrap>Three Stars                         </span></td><td><span style=white-space:pre-wrap>Only came with 30 pills I wish it would've came with at least 50                                                                                                                                                                                                                                                                                                                                                                                                                                                                                                                     </span></td><td>2015-08-31</td><td>0.0000000</td></tr>\n",
       "\t<tr><td>US</td><td>19827510</td><td>RBWPRK17XKIXD </td><td>B00PWW3LQ6</td><td>456433146</td><td><span style=white-space:pre-wrap>Viva Labs #1 Premium Himalayan Organic Goji Berries, Noticeably Larger and Juicier                                         </span></td><td>Health &amp; Personal Care</td><td>5</td><td>0</td><td>0</td><td>N</td><td>Y</td><td><span style=white-space:pre-wrap>A good portable snack               </span></td><td><span style=white-space:pre-wrap>Really yummy and healthy.  A good portable snack.                                                                                                                                                                                                                                                                                                                                                                                                                                                                                                                                    </span></td><td>2015-08-31</td><td>0.7000000</td></tr>\n",
       "\t<tr><td>US</td><td> 1520474</td><td>RRSLOAF273XFC </td><td>B00DKEWA92</td><td>460764511</td><td><span style=white-space:pre-wrap>Whip-it Cleaner                                                                                                            </span></td><td>Health &amp; Personal Care</td><td>5</td><td>1</td><td>2</td><td>N</td><td>Y</td><td><span style=white-space:pre-wrap>You need this                       </span></td><td><span style=white-space:pre-wrap>You cannot go wrong with this stuff. I use it in my laundry &amp; my carpet steamer and also just for general cleaning in my kitchen and bathroom. I have 3 dogs and this keeps my creme colored carpets looking new. Also works great as a deodorizer in my air washer. Buy it!                                                                                                                                                                                                                                                                                                         </span></td><td>2015-08-31</td><td>0.0000000</td></tr>\n",
       "\t<tr><td>US</td><td>23905905</td><td>R3S8W9Q6SWIT8O</td><td>B0015R3A7M</td><td>135102038</td><td><span style=white-space:pre-wrap>Optimum Nutrition Opti-Men Daily Multivitamin Supplement, 90 Count                                                         </span></td><td>Health &amp; Personal Care</td><td>4</td><td>0</td><td>0</td><td>N</td><td>Y</td><td><span style=white-space:pre-wrap>this is a good vitamin for men      </span></td><td><span style=white-space:pre-wrap>This is a good daily vitamin for men.                                                                                                                                                                                                                                                                                                                                                                                                                                                                                                                                                </span></td><td>2015-08-31</td><td>0.2834734</td></tr>\n",
       "\t<tr><td>US</td><td>28215779</td><td>R3QQ6NSLRVBFJC</td><td>B006B8U8BG</td><td>200666829</td><td>Wet-Stop3 Bedwetting Enuresis Alarm with Loud Sound and Strong Vibration for Boys or Girls, Proven Solutions for Bedwetters</td><td>Health &amp; Personal Care</td><td>4</td><td>0</td><td>0</td><td>N</td><td>Y</td><td>progress is definitely happening!!!!</td><td>We have been using this for almost a month and so far it's worked out really well! My son is actually waking up when the alarm sounds and changes his bottoms if he needs to or finishes in the bathroom! Before the alarm he wouldn't wake up for any type of noise!!! He has more gold stars on his board than silver and it has boosted his confidence! We are happy!&lt;br /&gt;The only thing it does and we don't know why is that it will randomly sound even if he's dry.. Not sure if that's supposed to happen or not but its not too often so we just ignore it and shut it off!</td><td>2015-08-31</td><td>0.6750000</td></tr>\n",
       "\t<tr><td>US</td><td>23260912</td><td>R2XYDBMHUVJCSX</td><td>B00PFZFD8Y</td><td>344168617</td><td><span style=white-space:pre-wrap>NatraCure Plantar Fasciitis Wrap (One Wrap) - 1291-S CAT Arch Support (Small/Medium)                                       </span></td><td>Health &amp; Personal Care</td><td>2</td><td>0</td><td>1</td><td>N</td><td>Y</td><td><span style=white-space:pre-wrap>Two Stars                           </span></td><td><span style=white-space:pre-wrap>I wear it a few times only but the fabric cover the jelly pad already broken.                                                                                                                                                                                                                                                                                                                                                                                                                                                                                                        </span></td><td>2015-08-31</td><td>0.0000000</td></tr>\n",
       "</tbody>\n",
       "</table>\n"
      ],
      "text/latex": [
       "A tibble: 6 × 16\n",
       "\\begin{tabular}{llllllllllllllll}\n",
       " marketplace & customer\\_id & review\\_id & product\\_id & product\\_parent & product\\_title & product\\_category & star\\_rating & helpful\\_votes & total\\_votes & vine & verified\\_purchase & review\\_headline & review\\_body & review\\_date & sentiment\\\\\n",
       " <chr> & <int> & <chr> & <chr> & <int> & <chr> & <chr> & <chr> & <chr> & <chr> & <chr> & <chr> & <chr> & <chr> & <chr> & <dbl>\\\\\n",
       "\\hline\n",
       "\t US &   650634 & R3EQSTM9PWRAL  & B0091LBZSU & 578484426 & Demograss Capsules Diet Pills Lose Weight                                                                                   & Health \\& Personal Care & 3 & 0 & 0 & N & Y & Three Stars                          & Only came with 30 pills I wish it would've came with at least 50                                                                                                                                                                                                                                                                                                                                                                                                                                                                                                                      & 2015-08-31 & 0.0000000\\\\\n",
       "\t US & 19827510 & RBWPRK17XKIXD  & B00PWW3LQ6 & 456433146 & Viva Labs \\#1 Premium Himalayan Organic Goji Berries, Noticeably Larger and Juicier                                          & Health \\& Personal Care & 5 & 0 & 0 & N & Y & A good portable snack                & Really yummy and healthy.  A good portable snack.                                                                                                                                                                                                                                                                                                                                                                                                                                                                                                                                     & 2015-08-31 & 0.7000000\\\\\n",
       "\t US &  1520474 & RRSLOAF273XFC  & B00DKEWA92 & 460764511 & Whip-it Cleaner                                                                                                             & Health \\& Personal Care & 5 & 1 & 2 & N & Y & You need this                        & You cannot go wrong with this stuff. I use it in my laundry \\& my carpet steamer and also just for general cleaning in my kitchen and bathroom. I have 3 dogs and this keeps my creme colored carpets looking new. Also works great as a deodorizer in my air washer. Buy it!                                                                                                                                                                                                                                                                                                          & 2015-08-31 & 0.0000000\\\\\n",
       "\t US & 23905905 & R3S8W9Q6SWIT8O & B0015R3A7M & 135102038 & Optimum Nutrition Opti-Men Daily Multivitamin Supplement, 90 Count                                                          & Health \\& Personal Care & 4 & 0 & 0 & N & Y & this is a good vitamin for men       & This is a good daily vitamin for men.                                                                                                                                                                                                                                                                                                                                                                                                                                                                                                                                                 & 2015-08-31 & 0.2834734\\\\\n",
       "\t US & 28215779 & R3QQ6NSLRVBFJC & B006B8U8BG & 200666829 & Wet-Stop3 Bedwetting Enuresis Alarm with Loud Sound and Strong Vibration for Boys or Girls, Proven Solutions for Bedwetters & Health \\& Personal Care & 4 & 0 & 0 & N & Y & progress is definitely happening!!!! & We have been using this for almost a month and so far it's worked out really well! My son is actually waking up when the alarm sounds and changes his bottoms if he needs to or finishes in the bathroom! Before the alarm he wouldn't wake up for any type of noise!!! He has more gold stars on his board than silver and it has boosted his confidence! We are happy!<br />The only thing it does and we don't know why is that it will randomly sound even if he's dry.. Not sure if that's supposed to happen or not but its not too often so we just ignore it and shut it off! & 2015-08-31 & 0.6750000\\\\\n",
       "\t US & 23260912 & R2XYDBMHUVJCSX & B00PFZFD8Y & 344168617 & NatraCure Plantar Fasciitis Wrap (One Wrap) - 1291-S CAT Arch Support (Small/Medium)                                        & Health \\& Personal Care & 2 & 0 & 1 & N & Y & Two Stars                            & I wear it a few times only but the fabric cover the jelly pad already broken.                                                                                                                                                                                                                                                                                                                                                                                                                                                                                                         & 2015-08-31 & 0.0000000\\\\\n",
       "\\end{tabular}\n"
      ],
      "text/markdown": [
       "\n",
       "A tibble: 6 × 16\n",
       "\n",
       "| marketplace &lt;chr&gt; | customer_id &lt;int&gt; | review_id &lt;chr&gt; | product_id &lt;chr&gt; | product_parent &lt;int&gt; | product_title &lt;chr&gt; | product_category &lt;chr&gt; | star_rating &lt;chr&gt; | helpful_votes &lt;chr&gt; | total_votes &lt;chr&gt; | vine &lt;chr&gt; | verified_purchase &lt;chr&gt; | review_headline &lt;chr&gt; | review_body &lt;chr&gt; | review_date &lt;chr&gt; | sentiment &lt;dbl&gt; |\n",
       "|---|---|---|---|---|---|---|---|---|---|---|---|---|---|---|---|\n",
       "| US |   650634 | R3EQSTM9PWRAL  | B0091LBZSU | 578484426 | Demograss Capsules Diet Pills Lose Weight                                                                                   | Health &amp; Personal Care | 3 | 0 | 0 | N | Y | Three Stars                          | Only came with 30 pills I wish it would've came with at least 50                                                                                                                                                                                                                                                                                                                                                                                                                                                                                                                      | 2015-08-31 | 0.0000000 |\n",
       "| US | 19827510 | RBWPRK17XKIXD  | B00PWW3LQ6 | 456433146 | Viva Labs #1 Premium Himalayan Organic Goji Berries, Noticeably Larger and Juicier                                          | Health &amp; Personal Care | 5 | 0 | 0 | N | Y | A good portable snack                | Really yummy and healthy.  A good portable snack.                                                                                                                                                                                                                                                                                                                                                                                                                                                                                                                                     | 2015-08-31 | 0.7000000 |\n",
       "| US |  1520474 | RRSLOAF273XFC  | B00DKEWA92 | 460764511 | Whip-it Cleaner                                                                                                             | Health &amp; Personal Care | 5 | 1 | 2 | N | Y | You need this                        | You cannot go wrong with this stuff. I use it in my laundry &amp; my carpet steamer and also just for general cleaning in my kitchen and bathroom. I have 3 dogs and this keeps my creme colored carpets looking new. Also works great as a deodorizer in my air washer. Buy it!                                                                                                                                                                                                                                                                                                          | 2015-08-31 | 0.0000000 |\n",
       "| US | 23905905 | R3S8W9Q6SWIT8O | B0015R3A7M | 135102038 | Optimum Nutrition Opti-Men Daily Multivitamin Supplement, 90 Count                                                          | Health &amp; Personal Care | 4 | 0 | 0 | N | Y | this is a good vitamin for men       | This is a good daily vitamin for men.                                                                                                                                                                                                                                                                                                                                                                                                                                                                                                                                                 | 2015-08-31 | 0.2834734 |\n",
       "| US | 28215779 | R3QQ6NSLRVBFJC | B006B8U8BG | 200666829 | Wet-Stop3 Bedwetting Enuresis Alarm with Loud Sound and Strong Vibration for Boys or Girls, Proven Solutions for Bedwetters | Health &amp; Personal Care | 4 | 0 | 0 | N | Y | progress is definitely happening!!!! | We have been using this for almost a month and so far it's worked out really well! My son is actually waking up when the alarm sounds and changes his bottoms if he needs to or finishes in the bathroom! Before the alarm he wouldn't wake up for any type of noise!!! He has more gold stars on his board than silver and it has boosted his confidence! We are happy!&lt;br /&gt;The only thing it does and we don't know why is that it will randomly sound even if he's dry.. Not sure if that's supposed to happen or not but its not too often so we just ignore it and shut it off! | 2015-08-31 | 0.6750000 |\n",
       "| US | 23260912 | R2XYDBMHUVJCSX | B00PFZFD8Y | 344168617 | NatraCure Plantar Fasciitis Wrap (One Wrap) - 1291-S CAT Arch Support (Small/Medium)                                        | Health &amp; Personal Care | 2 | 0 | 1 | N | Y | Two Stars                            | I wear it a few times only but the fabric cover the jelly pad already broken.                                                                                                                                                                                                                                                                                                                                                                                                                                                                                                         | 2015-08-31 | 0.0000000 |\n",
       "\n"
      ],
      "text/plain": [
       "  marketplace customer_id review_id      product_id product_parent\n",
       "1 US            650634    R3EQSTM9PWRAL  B0091LBZSU 578484426     \n",
       "2 US          19827510    RBWPRK17XKIXD  B00PWW3LQ6 456433146     \n",
       "3 US           1520474    RRSLOAF273XFC  B00DKEWA92 460764511     \n",
       "4 US          23905905    R3S8W9Q6SWIT8O B0015R3A7M 135102038     \n",
       "5 US          28215779    R3QQ6NSLRVBFJC B006B8U8BG 200666829     \n",
       "6 US          23260912    R2XYDBMHUVJCSX B00PFZFD8Y 344168617     \n",
       "  product_title                                                                                                              \n",
       "1 Demograss Capsules Diet Pills Lose Weight                                                                                  \n",
       "2 Viva Labs #1 Premium Himalayan Organic Goji Berries, Noticeably Larger and Juicier                                         \n",
       "3 Whip-it Cleaner                                                                                                            \n",
       "4 Optimum Nutrition Opti-Men Daily Multivitamin Supplement, 90 Count                                                         \n",
       "5 Wet-Stop3 Bedwetting Enuresis Alarm with Loud Sound and Strong Vibration for Boys or Girls, Proven Solutions for Bedwetters\n",
       "6 NatraCure Plantar Fasciitis Wrap (One Wrap) - 1291-S CAT Arch Support (Small/Medium)                                       \n",
       "  product_category       star_rating helpful_votes total_votes vine\n",
       "1 Health & Personal Care 3           0             0           N   \n",
       "2 Health & Personal Care 5           0             0           N   \n",
       "3 Health & Personal Care 5           1             2           N   \n",
       "4 Health & Personal Care 4           0             0           N   \n",
       "5 Health & Personal Care 4           0             0           N   \n",
       "6 Health & Personal Care 2           0             1           N   \n",
       "  verified_purchase review_headline                     \n",
       "1 Y                 Three Stars                         \n",
       "2 Y                 A good portable snack               \n",
       "3 Y                 You need this                       \n",
       "4 Y                 this is a good vitamin for men      \n",
       "5 Y                 progress is definitely happening!!!!\n",
       "6 Y                 Two Stars                           \n",
       "  review_body                                                                                                                                                                                                                                                                                                                                                                                                                                                                                                                                                                          \n",
       "1 Only came with 30 pills I wish it would've came with at least 50                                                                                                                                                                                                                                                                                                                                                                                                                                                                                                                     \n",
       "2 Really yummy and healthy.  A good portable snack.                                                                                                                                                                                                                                                                                                                                                                                                                                                                                                                                    \n",
       "3 You cannot go wrong with this stuff. I use it in my laundry & my carpet steamer and also just for general cleaning in my kitchen and bathroom. I have 3 dogs and this keeps my creme colored carpets looking new. Also works great as a deodorizer in my air washer. Buy it!                                                                                                                                                                                                                                                                                                         \n",
       "4 This is a good daily vitamin for men.                                                                                                                                                                                                                                                                                                                                                                                                                                                                                                                                                \n",
       "5 We have been using this for almost a month and so far it's worked out really well! My son is actually waking up when the alarm sounds and changes his bottoms if he needs to or finishes in the bathroom! Before the alarm he wouldn't wake up for any type of noise!!! He has more gold stars on his board than silver and it has boosted his confidence! We are happy!<br />The only thing it does and we don't know why is that it will randomly sound even if he's dry.. Not sure if that's supposed to happen or not but its not too often so we just ignore it and shut it off!\n",
       "6 I wear it a few times only but the fabric cover the jelly pad already broken.                                                                                                                                                                                                                                                                                                                                                                                                                                                                                                        \n",
       "  review_date sentiment\n",
       "1 2015-08-31  0.0000000\n",
       "2 2015-08-31  0.7000000\n",
       "3 2015-08-31  0.0000000\n",
       "4 2015-08-31  0.2834734\n",
       "5 2015-08-31  0.6750000\n",
       "6 2015-08-31  0.0000000"
      ]
     },
     "metadata": {},
     "output_type": "display_data"
    }
   ],
   "source": [
    "head(df)"
   ]
  },
  {
   "cell_type": "code",
   "execution_count": 27,
   "metadata": {},
   "outputs": [],
   "source": [
    "df$sentimentanalysis <- ifelse(df$star_rating > 3,'positive', 'negative')"
   ]
  },
  {
   "cell_type": "code",
   "execution_count": 28,
   "metadata": {},
   "outputs": [
    {
     "data": {
      "text/html": [
       "<table class=\"dataframe\">\n",
       "<caption>A tibble: 6 × 17</caption>\n",
       "<thead>\n",
       "\t<tr><th scope=col>marketplace</th><th scope=col>customer_id</th><th scope=col>review_id</th><th scope=col>product_id</th><th scope=col>product_parent</th><th scope=col>product_title</th><th scope=col>product_category</th><th scope=col>star_rating</th><th scope=col>helpful_votes</th><th scope=col>total_votes</th><th scope=col>vine</th><th scope=col>verified_purchase</th><th scope=col>review_headline</th><th scope=col>review_body</th><th scope=col>review_date</th><th scope=col>sentiment</th><th scope=col>sentimentanalysis</th></tr>\n",
       "\t<tr><th scope=col>&lt;chr&gt;</th><th scope=col>&lt;int&gt;</th><th scope=col>&lt;chr&gt;</th><th scope=col>&lt;chr&gt;</th><th scope=col>&lt;int&gt;</th><th scope=col>&lt;chr&gt;</th><th scope=col>&lt;chr&gt;</th><th scope=col>&lt;chr&gt;</th><th scope=col>&lt;chr&gt;</th><th scope=col>&lt;chr&gt;</th><th scope=col>&lt;chr&gt;</th><th scope=col>&lt;chr&gt;</th><th scope=col>&lt;chr&gt;</th><th scope=col>&lt;chr&gt;</th><th scope=col>&lt;chr&gt;</th><th scope=col>&lt;dbl&gt;</th><th scope=col>&lt;chr&gt;</th></tr>\n",
       "</thead>\n",
       "<tbody>\n",
       "\t<tr><td>US</td><td><span style=white-space:pre-wrap>  650634</span></td><td>R3EQSTM9PWRAL </td><td>B0091LBZSU</td><td>578484426</td><td><span style=white-space:pre-wrap>Demograss Capsules Diet Pills Lose Weight                                                                                  </span></td><td>Health &amp; Personal Care</td><td>3</td><td>0</td><td>0</td><td>N</td><td>Y</td><td><span style=white-space:pre-wrap>Three Stars                         </span></td><td><span style=white-space:pre-wrap>Only came with 30 pills I wish it would've came with at least 50                                                                                                                                                                                                                                                                                                                                                                                                                                                                                                                     </span></td><td>2015-08-31</td><td>0.0000000</td><td>negative</td></tr>\n",
       "\t<tr><td>US</td><td>19827510</td><td>RBWPRK17XKIXD </td><td>B00PWW3LQ6</td><td>456433146</td><td><span style=white-space:pre-wrap>Viva Labs #1 Premium Himalayan Organic Goji Berries, Noticeably Larger and Juicier                                         </span></td><td>Health &amp; Personal Care</td><td>5</td><td>0</td><td>0</td><td>N</td><td>Y</td><td><span style=white-space:pre-wrap>A good portable snack               </span></td><td><span style=white-space:pre-wrap>Really yummy and healthy.  A good portable snack.                                                                                                                                                                                                                                                                                                                                                                                                                                                                                                                                    </span></td><td>2015-08-31</td><td>0.7000000</td><td>positive</td></tr>\n",
       "\t<tr><td>US</td><td> 1520474</td><td>RRSLOAF273XFC </td><td>B00DKEWA92</td><td>460764511</td><td><span style=white-space:pre-wrap>Whip-it Cleaner                                                                                                            </span></td><td>Health &amp; Personal Care</td><td>5</td><td>1</td><td>2</td><td>N</td><td>Y</td><td><span style=white-space:pre-wrap>You need this                       </span></td><td><span style=white-space:pre-wrap>You cannot go wrong with this stuff. I use it in my laundry &amp; my carpet steamer and also just for general cleaning in my kitchen and bathroom. I have 3 dogs and this keeps my creme colored carpets looking new. Also works great as a deodorizer in my air washer. Buy it!                                                                                                                                                                                                                                                                                                         </span></td><td>2015-08-31</td><td>0.0000000</td><td>positive</td></tr>\n",
       "\t<tr><td>US</td><td>23905905</td><td>R3S8W9Q6SWIT8O</td><td>B0015R3A7M</td><td>135102038</td><td><span style=white-space:pre-wrap>Optimum Nutrition Opti-Men Daily Multivitamin Supplement, 90 Count                                                         </span></td><td>Health &amp; Personal Care</td><td>4</td><td>0</td><td>0</td><td>N</td><td>Y</td><td><span style=white-space:pre-wrap>this is a good vitamin for men      </span></td><td><span style=white-space:pre-wrap>This is a good daily vitamin for men.                                                                                                                                                                                                                                                                                                                                                                                                                                                                                                                                                </span></td><td>2015-08-31</td><td>0.2834734</td><td>positive</td></tr>\n",
       "\t<tr><td>US</td><td>28215779</td><td>R3QQ6NSLRVBFJC</td><td>B006B8U8BG</td><td>200666829</td><td>Wet-Stop3 Bedwetting Enuresis Alarm with Loud Sound and Strong Vibration for Boys or Girls, Proven Solutions for Bedwetters</td><td>Health &amp; Personal Care</td><td>4</td><td>0</td><td>0</td><td>N</td><td>Y</td><td>progress is definitely happening!!!!</td><td>We have been using this for almost a month and so far it's worked out really well! My son is actually waking up when the alarm sounds and changes his bottoms if he needs to or finishes in the bathroom! Before the alarm he wouldn't wake up for any type of noise!!! He has more gold stars on his board than silver and it has boosted his confidence! We are happy!&lt;br /&gt;The only thing it does and we don't know why is that it will randomly sound even if he's dry.. Not sure if that's supposed to happen or not but its not too often so we just ignore it and shut it off!</td><td>2015-08-31</td><td>0.6750000</td><td>positive</td></tr>\n",
       "\t<tr><td>US</td><td>23260912</td><td>R2XYDBMHUVJCSX</td><td>B00PFZFD8Y</td><td>344168617</td><td><span style=white-space:pre-wrap>NatraCure Plantar Fasciitis Wrap (One Wrap) - 1291-S CAT Arch Support (Small/Medium)                                       </span></td><td>Health &amp; Personal Care</td><td>2</td><td>0</td><td>1</td><td>N</td><td>Y</td><td><span style=white-space:pre-wrap>Two Stars                           </span></td><td><span style=white-space:pre-wrap>I wear it a few times only but the fabric cover the jelly pad already broken.                                                                                                                                                                                                                                                                                                                                                                                                                                                                                                        </span></td><td>2015-08-31</td><td>0.0000000</td><td>negative</td></tr>\n",
       "</tbody>\n",
       "</table>\n"
      ],
      "text/latex": [
       "A tibble: 6 × 17\n",
       "\\begin{tabular}{lllllllllllllllll}\n",
       " marketplace & customer\\_id & review\\_id & product\\_id & product\\_parent & product\\_title & product\\_category & star\\_rating & helpful\\_votes & total\\_votes & vine & verified\\_purchase & review\\_headline & review\\_body & review\\_date & sentiment & sentimentanalysis\\\\\n",
       " <chr> & <int> & <chr> & <chr> & <int> & <chr> & <chr> & <chr> & <chr> & <chr> & <chr> & <chr> & <chr> & <chr> & <chr> & <dbl> & <chr>\\\\\n",
       "\\hline\n",
       "\t US &   650634 & R3EQSTM9PWRAL  & B0091LBZSU & 578484426 & Demograss Capsules Diet Pills Lose Weight                                                                                   & Health \\& Personal Care & 3 & 0 & 0 & N & Y & Three Stars                          & Only came with 30 pills I wish it would've came with at least 50                                                                                                                                                                                                                                                                                                                                                                                                                                                                                                                      & 2015-08-31 & 0.0000000 & negative\\\\\n",
       "\t US & 19827510 & RBWPRK17XKIXD  & B00PWW3LQ6 & 456433146 & Viva Labs \\#1 Premium Himalayan Organic Goji Berries, Noticeably Larger and Juicier                                          & Health \\& Personal Care & 5 & 0 & 0 & N & Y & A good portable snack                & Really yummy and healthy.  A good portable snack.                                                                                                                                                                                                                                                                                                                                                                                                                                                                                                                                     & 2015-08-31 & 0.7000000 & positive\\\\\n",
       "\t US &  1520474 & RRSLOAF273XFC  & B00DKEWA92 & 460764511 & Whip-it Cleaner                                                                                                             & Health \\& Personal Care & 5 & 1 & 2 & N & Y & You need this                        & You cannot go wrong with this stuff. I use it in my laundry \\& my carpet steamer and also just for general cleaning in my kitchen and bathroom. I have 3 dogs and this keeps my creme colored carpets looking new. Also works great as a deodorizer in my air washer. Buy it!                                                                                                                                                                                                                                                                                                          & 2015-08-31 & 0.0000000 & positive\\\\\n",
       "\t US & 23905905 & R3S8W9Q6SWIT8O & B0015R3A7M & 135102038 & Optimum Nutrition Opti-Men Daily Multivitamin Supplement, 90 Count                                                          & Health \\& Personal Care & 4 & 0 & 0 & N & Y & this is a good vitamin for men       & This is a good daily vitamin for men.                                                                                                                                                                                                                                                                                                                                                                                                                                                                                                                                                 & 2015-08-31 & 0.2834734 & positive\\\\\n",
       "\t US & 28215779 & R3QQ6NSLRVBFJC & B006B8U8BG & 200666829 & Wet-Stop3 Bedwetting Enuresis Alarm with Loud Sound and Strong Vibration for Boys or Girls, Proven Solutions for Bedwetters & Health \\& Personal Care & 4 & 0 & 0 & N & Y & progress is definitely happening!!!! & We have been using this for almost a month and so far it's worked out really well! My son is actually waking up when the alarm sounds and changes his bottoms if he needs to or finishes in the bathroom! Before the alarm he wouldn't wake up for any type of noise!!! He has more gold stars on his board than silver and it has boosted his confidence! We are happy!<br />The only thing it does and we don't know why is that it will randomly sound even if he's dry.. Not sure if that's supposed to happen or not but its not too often so we just ignore it and shut it off! & 2015-08-31 & 0.6750000 & positive\\\\\n",
       "\t US & 23260912 & R2XYDBMHUVJCSX & B00PFZFD8Y & 344168617 & NatraCure Plantar Fasciitis Wrap (One Wrap) - 1291-S CAT Arch Support (Small/Medium)                                        & Health \\& Personal Care & 2 & 0 & 1 & N & Y & Two Stars                            & I wear it a few times only but the fabric cover the jelly pad already broken.                                                                                                                                                                                                                                                                                                                                                                                                                                                                                                         & 2015-08-31 & 0.0000000 & negative\\\\\n",
       "\\end{tabular}\n"
      ],
      "text/markdown": [
       "\n",
       "A tibble: 6 × 17\n",
       "\n",
       "| marketplace &lt;chr&gt; | customer_id &lt;int&gt; | review_id &lt;chr&gt; | product_id &lt;chr&gt; | product_parent &lt;int&gt; | product_title &lt;chr&gt; | product_category &lt;chr&gt; | star_rating &lt;chr&gt; | helpful_votes &lt;chr&gt; | total_votes &lt;chr&gt; | vine &lt;chr&gt; | verified_purchase &lt;chr&gt; | review_headline &lt;chr&gt; | review_body &lt;chr&gt; | review_date &lt;chr&gt; | sentiment &lt;dbl&gt; | sentimentanalysis &lt;chr&gt; |\n",
       "|---|---|---|---|---|---|---|---|---|---|---|---|---|---|---|---|---|\n",
       "| US |   650634 | R3EQSTM9PWRAL  | B0091LBZSU | 578484426 | Demograss Capsules Diet Pills Lose Weight                                                                                   | Health &amp; Personal Care | 3 | 0 | 0 | N | Y | Three Stars                          | Only came with 30 pills I wish it would've came with at least 50                                                                                                                                                                                                                                                                                                                                                                                                                                                                                                                      | 2015-08-31 | 0.0000000 | negative |\n",
       "| US | 19827510 | RBWPRK17XKIXD  | B00PWW3LQ6 | 456433146 | Viva Labs #1 Premium Himalayan Organic Goji Berries, Noticeably Larger and Juicier                                          | Health &amp; Personal Care | 5 | 0 | 0 | N | Y | A good portable snack                | Really yummy and healthy.  A good portable snack.                                                                                                                                                                                                                                                                                                                                                                                                                                                                                                                                     | 2015-08-31 | 0.7000000 | positive |\n",
       "| US |  1520474 | RRSLOAF273XFC  | B00DKEWA92 | 460764511 | Whip-it Cleaner                                                                                                             | Health &amp; Personal Care | 5 | 1 | 2 | N | Y | You need this                        | You cannot go wrong with this stuff. I use it in my laundry &amp; my carpet steamer and also just for general cleaning in my kitchen and bathroom. I have 3 dogs and this keeps my creme colored carpets looking new. Also works great as a deodorizer in my air washer. Buy it!                                                                                                                                                                                                                                                                                                          | 2015-08-31 | 0.0000000 | positive |\n",
       "| US | 23905905 | R3S8W9Q6SWIT8O | B0015R3A7M | 135102038 | Optimum Nutrition Opti-Men Daily Multivitamin Supplement, 90 Count                                                          | Health &amp; Personal Care | 4 | 0 | 0 | N | Y | this is a good vitamin for men       | This is a good daily vitamin for men.                                                                                                                                                                                                                                                                                                                                                                                                                                                                                                                                                 | 2015-08-31 | 0.2834734 | positive |\n",
       "| US | 28215779 | R3QQ6NSLRVBFJC | B006B8U8BG | 200666829 | Wet-Stop3 Bedwetting Enuresis Alarm with Loud Sound and Strong Vibration for Boys or Girls, Proven Solutions for Bedwetters | Health &amp; Personal Care | 4 | 0 | 0 | N | Y | progress is definitely happening!!!! | We have been using this for almost a month and so far it's worked out really well! My son is actually waking up when the alarm sounds and changes his bottoms if he needs to or finishes in the bathroom! Before the alarm he wouldn't wake up for any type of noise!!! He has more gold stars on his board than silver and it has boosted his confidence! We are happy!&lt;br /&gt;The only thing it does and we don't know why is that it will randomly sound even if he's dry.. Not sure if that's supposed to happen or not but its not too often so we just ignore it and shut it off! | 2015-08-31 | 0.6750000 | positive |\n",
       "| US | 23260912 | R2XYDBMHUVJCSX | B00PFZFD8Y | 344168617 | NatraCure Plantar Fasciitis Wrap (One Wrap) - 1291-S CAT Arch Support (Small/Medium)                                        | Health &amp; Personal Care | 2 | 0 | 1 | N | Y | Two Stars                            | I wear it a few times only but the fabric cover the jelly pad already broken.                                                                                                                                                                                                                                                                                                                                                                                                                                                                                                         | 2015-08-31 | 0.0000000 | negative |\n",
       "\n"
      ],
      "text/plain": [
       "  marketplace customer_id review_id      product_id product_parent\n",
       "1 US            650634    R3EQSTM9PWRAL  B0091LBZSU 578484426     \n",
       "2 US          19827510    RBWPRK17XKIXD  B00PWW3LQ6 456433146     \n",
       "3 US           1520474    RRSLOAF273XFC  B00DKEWA92 460764511     \n",
       "4 US          23905905    R3S8W9Q6SWIT8O B0015R3A7M 135102038     \n",
       "5 US          28215779    R3QQ6NSLRVBFJC B006B8U8BG 200666829     \n",
       "6 US          23260912    R2XYDBMHUVJCSX B00PFZFD8Y 344168617     \n",
       "  product_title                                                                                                              \n",
       "1 Demograss Capsules Diet Pills Lose Weight                                                                                  \n",
       "2 Viva Labs #1 Premium Himalayan Organic Goji Berries, Noticeably Larger and Juicier                                         \n",
       "3 Whip-it Cleaner                                                                                                            \n",
       "4 Optimum Nutrition Opti-Men Daily Multivitamin Supplement, 90 Count                                                         \n",
       "5 Wet-Stop3 Bedwetting Enuresis Alarm with Loud Sound and Strong Vibration for Boys or Girls, Proven Solutions for Bedwetters\n",
       "6 NatraCure Plantar Fasciitis Wrap (One Wrap) - 1291-S CAT Arch Support (Small/Medium)                                       \n",
       "  product_category       star_rating helpful_votes total_votes vine\n",
       "1 Health & Personal Care 3           0             0           N   \n",
       "2 Health & Personal Care 5           0             0           N   \n",
       "3 Health & Personal Care 5           1             2           N   \n",
       "4 Health & Personal Care 4           0             0           N   \n",
       "5 Health & Personal Care 4           0             0           N   \n",
       "6 Health & Personal Care 2           0             1           N   \n",
       "  verified_purchase review_headline                     \n",
       "1 Y                 Three Stars                         \n",
       "2 Y                 A good portable snack               \n",
       "3 Y                 You need this                       \n",
       "4 Y                 this is a good vitamin for men      \n",
       "5 Y                 progress is definitely happening!!!!\n",
       "6 Y                 Two Stars                           \n",
       "  review_body                                                                                                                                                                                                                                                                                                                                                                                                                                                                                                                                                                          \n",
       "1 Only came with 30 pills I wish it would've came with at least 50                                                                                                                                                                                                                                                                                                                                                                                                                                                                                                                     \n",
       "2 Really yummy and healthy.  A good portable snack.                                                                                                                                                                                                                                                                                                                                                                                                                                                                                                                                    \n",
       "3 You cannot go wrong with this stuff. I use it in my laundry & my carpet steamer and also just for general cleaning in my kitchen and bathroom. I have 3 dogs and this keeps my creme colored carpets looking new. Also works great as a deodorizer in my air washer. Buy it!                                                                                                                                                                                                                                                                                                         \n",
       "4 This is a good daily vitamin for men.                                                                                                                                                                                                                                                                                                                                                                                                                                                                                                                                                \n",
       "5 We have been using this for almost a month and so far it's worked out really well! My son is actually waking up when the alarm sounds and changes his bottoms if he needs to or finishes in the bathroom! Before the alarm he wouldn't wake up for any type of noise!!! He has more gold stars on his board than silver and it has boosted his confidence! We are happy!<br />The only thing it does and we don't know why is that it will randomly sound even if he's dry.. Not sure if that's supposed to happen or not but its not too often so we just ignore it and shut it off!\n",
       "6 I wear it a few times only but the fabric cover the jelly pad already broken.                                                                                                                                                                                                                                                                                                                                                                                                                                                                                                        \n",
       "  review_date sentiment sentimentanalysis\n",
       "1 2015-08-31  0.0000000 negative         \n",
       "2 2015-08-31  0.7000000 positive         \n",
       "3 2015-08-31  0.0000000 positive         \n",
       "4 2015-08-31  0.2834734 positive         \n",
       "5 2015-08-31  0.6750000 positive         \n",
       "6 2015-08-31  0.0000000 negative         "
      ]
     },
     "metadata": {},
     "output_type": "display_data"
    }
   ],
   "source": [
    "head(df)"
   ]
  },
  {
   "cell_type": "code",
   "execution_count": 29,
   "metadata": {},
   "outputs": [
    {
     "data": {
      "image/png": "[encoded data removed]",
      "text/plain": [
       "Plot with title \"Overall Review Sentiments\""
      ]
     },
     "metadata": {
      "image/png": {
       "height": 420,
       "width": 420
      }
     },
     "output_type": "display_data"
    }
   ],
   "source": [
    "barplot(table(df$sentimentanalysis), ylab = 'Count', main = 'Overall Review Sentiments')"
   ]
  },
  {
   "cell_type": "code",
   "execution_count": null,
   "metadata": {},
   "outputs": [],
   "source": []
  }
 ],
 "metadata": {
  "kernelspec": {
   "display_name": "R",
   "language": "R",
   "name": "ir"
  },
  "language_info": {
   "codemirror_mode": "r",
   "file_extension": ".r",
   "mimetype": "text/x-r-source",
   "name": "R",
   "pygments_lexer": "r",
   "version": "4.0.4"
  }
 },
 "nbformat": 4,
 "nbformat_minor": 4
}
